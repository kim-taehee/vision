{
 "cells": [
  {
   "cell_type": "code",
   "execution_count": 131,
   "metadata": {},
   "outputs": [],
   "source": [
    "import tensorflow\n",
    "from keras import layers, Sequential, backend\n",
    "from keras.layers import Dense,Flatten,Conv2D,AveragePooling2D\n",
    "from PIL import Image\n",
    "import numpy as np\n",
    "import matplotlib.pyplot as plt\n",
    "import cv2"
   ]
  },
  {
   "cell_type": "code",
   "execution_count": 137,
   "metadata": {},
   "outputs": [
    {
     "ename": "AttributeError",
     "evalue": "'NoneType' object has no attribute 'size'",
     "output_type": "error",
     "traceback": [
      "\u001b[1;31m---------------------------------------------------------------------------\u001b[0m",
      "\u001b[1;31mAttributeError\u001b[0m                            Traceback (most recent call last)",
      "\u001b[1;32m<ipython-input-137-f136ef3fe525>\u001b[0m in \u001b[0;36m<module>\u001b[1;34m\u001b[0m\n\u001b[0;32m      1\u001b[0m \u001b[0mimg\u001b[0m \u001b[1;33m=\u001b[0m \u001b[0mcv2\u001b[0m\u001b[1;33m.\u001b[0m\u001b[0mimread\u001b[0m\u001b[1;33m(\u001b[0m\u001b[1;34m'./ch09//himawari8_ahi_color_ch09_ko020ps_201507030100.png'\u001b[0m\u001b[1;33m)\u001b[0m\u001b[1;33m\u001b[0m\u001b[0m\n\u001b[0;32m      2\u001b[0m \u001b[0mimg1\u001b[0m \u001b[1;33m=\u001b[0m \u001b[0mcv2\u001b[0m\u001b[1;33m.\u001b[0m\u001b[0mimread\u001b[0m\u001b[1;33m(\u001b[0m\u001b[1;34m'./ch14//himawari8_ahi_color_ch14_ko020ps_201507030100.png'\u001b[0m\u001b[1;33m)\u001b[0m\u001b[1;33m\u001b[0m\u001b[0m\n\u001b[1;32m----> 3\u001b[1;33m \u001b[0mprint\u001b[0m\u001b[1;33m(\u001b[0m\u001b[0mimg\u001b[0m\u001b[1;33m.\u001b[0m\u001b[0msize\u001b[0m\u001b[1;33m)\u001b[0m\u001b[1;33m\u001b[0m\u001b[0m\n\u001b[0m\u001b[0;32m      4\u001b[0m \u001b[0mprint\u001b[0m\u001b[1;33m(\u001b[0m\u001b[0mimg\u001b[0m\u001b[1;33m.\u001b[0m\u001b[0mdtype\u001b[0m\u001b[1;33m)\u001b[0m\u001b[1;33m\u001b[0m\u001b[0m\n\u001b[0;32m      5\u001b[0m \u001b[0mprint\u001b[0m\u001b[1;33m(\u001b[0m\u001b[0mimg\u001b[0m\u001b[1;33m.\u001b[0m\u001b[0mshape\u001b[0m\u001b[1;33m[\u001b[0m\u001b[1;36m0\u001b[0m\u001b[1;33m]\u001b[0m\u001b[1;33m,\u001b[0m\u001b[0mimg\u001b[0m\u001b[1;33m.\u001b[0m\u001b[0mshape\u001b[0m\u001b[1;33m[\u001b[0m\u001b[1;36m1\u001b[0m\u001b[1;33m]\u001b[0m\u001b[1;33m,\u001b[0m\u001b[0mimg\u001b[0m\u001b[1;33m.\u001b[0m\u001b[0mshape\u001b[0m\u001b[1;33m[\u001b[0m\u001b[1;36m2\u001b[0m\u001b[1;33m]\u001b[0m\u001b[1;33m)\u001b[0m\u001b[1;33m\u001b[0m\u001b[0m\n",
      "\u001b[1;31mAttributeError\u001b[0m: 'NoneType' object has no attribute 'size'"
     ]
    }
   ],
   "source": [
    "img = cv2.imread('./ch09//himawari8_ahi_color_ch09_ko020ps_201507030100.png')\n",
    "img1 = cv2.imread('./ch14//himawari8_ahi_color_ch14_ko020ps_201507030100.png')\n",
    "print(img.size)\n",
    "print(img.dtype)\n",
    "print(img.shape[0],img.shape[1],img.shape[2])\n",
    "# 이미지 속성\n",
    "\n",
    "i=437\n",
    "j=532"
   ]
  },
  {
   "cell_type": "code",
   "execution_count": 134,
   "metadata": {},
   "outputs": [],
   "source": [
    "# data_set을 만들어서 call하기"
   ]
  },
  {
   "cell_type": "code",
   "execution_count": 113,
   "metadata": {},
   "outputs": [],
   "source": [
    "# 전처리된 데이터들을 set으로 불러오기"
   ]
  },
  {
   "cell_type": "code",
   "execution_count": 114,
   "metadata": {},
   "outputs": [],
   "source": [
    "# 각 좌표값에서 수치 풀러와서 저장하기\n",
    "# List의 조정으로 원하는 STN 조정\n",
    "STN_LiST = [(437,532),(425,489),(430,538),(443,455),(448,440),(456,498),(459,456),(486,435),(494,476),(508,473),\n",
    "            (517,501),(497,532),(527,561),(535,529),(537,462),(574,452),(578,546),(593,430),(600,389),(564,439),\n",
    "            (664,436),(677,420),(574,503)]"
   ]
  },
  {
   "cell_type": "code",
   "execution_count": 115,
   "metadata": {},
   "outputs": [],
   "source": [
    "\n",
    "# calibration and merge\n",
    "# STN_list 중에 한 개만 뽑으면 각 stn 분석 !!!!!!!!\n",
    "def stnChoose():\n",
    "    data_set=[]\n",
    "    data_set1=[]\n",
    "    data_set2=[]\n",
    "    data_set3=np.zeros([23,3,3,6])\n",
    "    #print(data_set3)\n",
    "    for k in STN_LiST :\n",
    "\n",
    "        # print(k)\n",
    "        i,j=k\n",
    "        # print(i,j)\n",
    "        img_r=img[i-1:i+2,j-1:j+2] # 9pixel cutting\n",
    "        img1_r=img1[i-1:i+2,j-1:j+2] # 9pixel cutting\n",
    "        # print(img2)\n",
    "        data_set.append(img_r)\n",
    "        data_set1.append(img1_r)\n",
    "        #merge channel    \n",
    "        aa=np.concatenate( (img_r,img1_r)).reshape(-1,3,3,6)\n",
    "        data_set2.append(aa)\n",
    "\n",
    "    data_set3=np.array(data_set2).reshape(-1,3,3,6)\n",
    "    return data_set3"
   ]
  },
  {
   "cell_type": "code",
   "execution_count": 1,
   "metadata": {},
   "outputs": [
    {
     "ename": "NameError",
     "evalue": "name 'np' is not defined",
     "output_type": "error",
     "traceback": [
      "\u001b[1;31m---------------------------------------------------------------------------\u001b[0m",
      "\u001b[1;31mNameError\u001b[0m                                 Traceback (most recent call last)",
      "\u001b[1;32m<ipython-input-1-213b6966c26f>\u001b[0m in \u001b[0;36m<module>\u001b[1;34m\u001b[0m\n\u001b[1;32m----> 1\u001b[1;33m \u001b[0my_train\u001b[0m\u001b[1;33m=\u001b[0m\u001b[0mnp\u001b[0m\u001b[1;33m.\u001b[0m\u001b[0marray\u001b[0m\u001b[1;33m(\u001b[0m\u001b[1;33m[\u001b[0m\u001b[1;36m1\u001b[0m\u001b[1;33m,\u001b[0m\u001b[1;36m2\u001b[0m\u001b[1;33m,\u001b[0m\u001b[1;36m1\u001b[0m\u001b[1;33m,\u001b[0m\u001b[1;36m2\u001b[0m\u001b[1;33m,\u001b[0m\u001b[1;36m3\u001b[0m\u001b[1;33m,\u001b[0m\u001b[1;36m2\u001b[0m\u001b[1;33m,\u001b[0m\u001b[1;36m1\u001b[0m\u001b[1;33m,\u001b[0m\u001b[1;36m2\u001b[0m\u001b[1;33m,\u001b[0m\u001b[1;36m1\u001b[0m\u001b[1;33m,\u001b[0m\u001b[1;36m2\u001b[0m\u001b[1;33m,\u001b[0m\u001b[1;36m1\u001b[0m\u001b[1;33m,\u001b[0m\u001b[1;36m1\u001b[0m\u001b[1;33m,\u001b[0m\u001b[1;36m2\u001b[0m\u001b[1;33m,\u001b[0m\u001b[1;36m1\u001b[0m\u001b[1;33m,\u001b[0m\u001b[1;36m2\u001b[0m\u001b[1;33m,\u001b[0m\u001b[1;36m3\u001b[0m\u001b[1;33m,\u001b[0m\u001b[1;36m2\u001b[0m\u001b[1;33m,\u001b[0m\u001b[1;36m1\u001b[0m\u001b[1;33m,\u001b[0m\u001b[1;36m2\u001b[0m\u001b[1;33m,\u001b[0m\u001b[1;36m1\u001b[0m\u001b[1;33m,\u001b[0m\u001b[1;36m2\u001b[0m\u001b[1;33m,\u001b[0m\u001b[1;36m1\u001b[0m\u001b[1;33m,\u001b[0m\u001b[1;36m1\u001b[0m\u001b[1;33m]\u001b[0m\u001b[1;33m)\u001b[0m \u001b[1;31m# y값 수정하기\u001b[0m\u001b[1;33m\u001b[0m\u001b[0m\n\u001b[0m",
      "\u001b[1;31mNameError\u001b[0m: name 'np' is not defined"
     ]
    }
   ],
   "source": [
    "y_train=np.array([1,2,1,2,3,2,1,2,1,2,1,1,2,1,2,3,2,1,2,1,2,1,1]) # y값 수정하기 "
   ]
  },
  {
   "cell_type": "code",
   "execution_count": 117,
   "metadata": {},
   "outputs": [],
   "source": [
    "def deepNet(data_set3):\n",
    "    model = Sequential()\n",
    "    model.add(Conv2D(12,(2,2),activation='relu',input_shape=(3,3,6)))\n",
    "    model.add(AveragePooling2D(pool_size=(2,2)))\n",
    "    model.add(Conv2D(12,(1,1),activation='relu')) #변경가능\n",
    "    model.add(Flatten())\n",
    "    model.add(Dense(9)) # 변경가능\n",
    "    model.add(Dense(1))\n",
    "    \n",
    "    model.compile(loss='mse',optimizer='adam')\n",
    "    hist=model.fit(data_set3,y_train,batch_size=3,epochs=10) # ,validation_data=(x_val,y_val)  \n",
    "    \n",
    "    # score=model.evaluate(x_val,y_val,batch_size=3)\n",
    "    # yhat_test=model.predict(x_val,batch_size=3)\n",
    "    \n",
    "    # val data와 시각화 준비"
   ]
  },
  {
   "cell_type": "code",
   "execution_count": 125,
   "metadata": {},
   "outputs": [],
   "source": [
    "def main(): # 여기 수정 많이 \n",
    "\n",
    "    data_set3=stnChoose()\n",
    "    print(len(data_set3))\n",
    "    deepNet(data_set3)\n",
    "    "
   ]
  },
  {
   "cell_type": "code",
   "execution_count": 126,
   "metadata": {},
   "outputs": [
    {
     "name": "stdout",
     "output_type": "stream",
     "text": [
      "23\n",
      "Epoch 1/10\n",
      "23/23 [==============================] - 1s 23ms/step - loss: 9377.1757\n",
      "Epoch 2/10\n",
      "23/23 [==============================] - 0s 907us/step - loss: 2114.6043\n",
      "Epoch 3/10\n",
      "23/23 [==============================] - 0s 782us/step - loss: 1240.0960\n",
      "Epoch 4/10\n",
      "23/23 [==============================] - 0s 694us/step - loss: 1212.1308\n",
      "Epoch 5/10\n",
      "23/23 [==============================] - 0s 787us/step - loss: 936.9414\n",
      "Epoch 6/10\n",
      "23/23 [==============================] - 0s 694us/step - loss: 665.4206\n",
      "Epoch 7/10\n",
      "23/23 [==============================] - 0s 694us/step - loss: 537.8902\n",
      "Epoch 8/10\n",
      "23/23 [==============================] - 0s 780us/step - loss: 453.5847\n",
      "Epoch 9/10\n",
      "23/23 [==============================] - 0s 775us/step - loss: 382.4991\n",
      "Epoch 10/10\n",
      "23/23 [==============================] - 0s 696us/step - loss: 328.2147\n"
     ]
    }
   ],
   "source": [
    "main()"
   ]
  },
  {
   "cell_type": "code",
   "execution_count": null,
   "metadata": {},
   "outputs": [],
   "source": []
  },
  {
   "cell_type": "code",
   "execution_count": null,
   "metadata": {},
   "outputs": [],
   "source": []
  },
  {
   "cell_type": "markdown",
   "metadata": {},
   "source": [
    "# 데이터 y 값 불러와서 match 해야함 "
   ]
  },
  {
   "cell_type": "code",
   "execution_count": 1,
   "metadata": {},
   "outputs": [
    {
     "name": "stderr",
     "output_type": "stream",
     "text": [
      "Using TensorFlow backend.\n"
     ]
    }
   ],
   "source": [
    "import tensorflow\n",
    "from keras import layers, Sequential, backend\n",
    "from keras.layers import Dense,Flatten,Conv2D,AveragePooling2D\n",
    "from PIL import Image\n",
    "import numpy as np\n",
    "import matplotlib.pyplot as plt\n",
    "import cv2\n",
    "import glob\n",
    "import pandas as pd"
   ]
  },
  {
   "cell_type": "code",
   "execution_count": 2,
   "metadata": {},
   "outputs": [],
   "source": [
    "# 문자열 길이를 보고 젤 뒤가 00인 것을 검출\n",
    "img_l=[]\n",
    "img_name=[]\n",
    "img1_l=[]\n",
    "img1_name=[]\n",
    "for filename in glob.iglob('./ch09/*00.png', recursive=True):\n",
    "    temp_img = cv2.imread(filename)\n",
    "    img_l.append(temp_img)\n",
    "    filename=filename[40:-6]\n",
    "    img_name.append(filename)\n",
    "for filename in glob.iglob('./ch14/*00.png', recursive=True): #폴더는 구분해서 \n",
    "    temp_img1 = cv2.imread(filename)\n",
    "    img1_l.append(temp_img)\n",
    "    #filename=filename[46:-6]\n",
    "    #img1_name.append(filename)\n",
    "    # 야간의 이미지도 그냥 써보자! "
   ]
  },
  {
   "cell_type": "code",
   "execution_count": 32,
   "metadata": {},
   "outputs": [],
   "source": [
    "# 각 좌표값에서 수치 풀러와서 저장하기\n",
    "# List의 조정으로 원하는 STN 조정\n",
    "STN_LiST = [(437,532),(425,489),(430,538),(443,455),(448,440),(456,498),(459,456),(486,435),(494,476),(508,473),\n",
    "            (517,501),(497,532),(527,561),(535,529),(537,462),(574,452),(578,546),(593,430),(600,389),(564,439),\n",
    "            (664,436),(677,420),(574,503)]"
   ]
  },
  {
   "cell_type": "code",
   "execution_count": 33,
   "metadata": {},
   "outputs": [
    {
     "data": {
      "text/plain": [
       "['2015070106']"
      ]
     },
     "execution_count": 33,
     "metadata": {},
     "output_type": "execute_result"
    }
   ],
   "source": [
    "y_train=np.array([1,2,1,2,3,2,1,2,1,2,1,1,2,1,2,3,2,1,2,1,2,1,1]) # y값 수정하기 \n",
    "# matched TM을 불러와서 stn_id를 리스트로 작성\n",
    "#  - sql 추출후,차원reform하여 리스트로 하여 저장 \n",
    "img_name"
   ]
  },
  {
   "cell_type": "markdown",
   "metadata": {},
   "source": [
    "## test 중인 코드"
   ]
  },
  {
   "cell_type": "code",
   "execution_count": 52,
   "metadata": {},
   "outputs": [],
   "source": [
    "# y값 매칭\n",
    "csvfile=pd.read_csv('./sattle_data2.csv',encoding='cp949')\n",
    "filtered_csv=[]\n",
    "for i in list(range(0,len(img_name))): #img의 날짜를 str ->int 필요함\n",
    "    temp=csvfile.loc[csvfile['TM']==int(img_name[i]),['일사량']]\n",
    "    temp=temp.values.tolist()\n",
    "    filtered_csv.append(temp)\n",
    "# filtered_csv에 y값들이 list로 들어온다, 순서가 맞을지 문제 "
   ]
  },
  {
   "cell_type": "code",
   "execution_count": 53,
   "metadata": {},
   "outputs": [
    {
     "data": {
      "text/plain": [
       "23"
      ]
     },
     "execution_count": 53,
     "metadata": {},
     "output_type": "execute_result"
    }
   ],
   "source": [
    "len (filtered_csv[0])"
   ]
  },
  {
   "cell_type": "markdown",
   "metadata": {},
   "source": [
    "## -----------------------------"
   ]
  },
  {
   "cell_type": "code",
   "execution_count": 54,
   "metadata": {},
   "outputs": [],
   "source": [
    "def stnChoose():\n",
    "    csvfile=pd.read_csv('./sattle_data2.csv',encoding='cp949')\n",
    "    filtered_csv=[]\n",
    "    for i in list(range(0,len(img_name))): #img의 날짜를 str ->int 필요함\n",
    "        temp=csvfile.loc[csvfile['TM']==int(img_name[i]),['일사량']]\n",
    "        temp=temp.values.tolist()\n",
    "        filtered_csv.append(temp)\n",
    "    \n",
    "    data_set3=[] # 시간별로 매칭하기 위한 array \n",
    "    # if~\n",
    "    for i in list(range(0,len(img_l))):       \n",
    "        img=img_l[i]  # 사진의 길이만큼 data_set2 tensor를 저장 \n",
    "        img1=img1_l[i]\n",
    "        \n",
    "        data_set2=[] # 두개 채널의 rgb tensor\n",
    "        for k in STN_LiST :  # 한개의 이미지에 대하여 23개 관측소x2channel, RGB값 산출\n",
    "            data_set=[]  # 각 사진에서 23 길이의 rgb를 list에 넣음\n",
    "            data_set1=[]\n",
    "            \n",
    "            # print(k)\n",
    "            i,j=k\n",
    "            # print(i,j)\n",
    "            img_r=img[i-1:i+2,j-1:j+2] # 9pixel cutting\n",
    "            img1_r=img1[i-1:i+2,j-1:j+2] # 9pixel cutting\n",
    "            # print(img2)\n",
    "            data_set.append(img_r)\n",
    "            data_set1.append(img1_r)\n",
    "            #merge channel    \n",
    "            aa=np.concatenate( (img_r,img1_r)).reshape(-1,3,3,6)\n",
    "            data_set2.append(aa)\n",
    "        data_set2=np.array(data_set2).reshape(-1,3,3,6)\n",
    "        data_set3.append(data_set2)\n",
    "    return data_set3,filtered_csv"
   ]
  },
  {
   "cell_type": "code",
   "execution_count": 56,
   "metadata": {},
   "outputs": [],
   "source": [
    "def main(): #\n",
    "    data_set3,filtered_csv=stnChoose()\n",
    "    print('length of K:',len(data_set3))\n",
    "    \n",
    "    \n",
    "    model = Sequential()\n",
    "    model.add(Conv2D(12,(2,2),activation='relu',input_shape=(3,3,6)))\n",
    "    model.add(AveragePooling2D(pool_size=(2,2)))\n",
    "    model.add(Conv2D(12,(1,1),activation='relu')) #변경가능\n",
    "    model.add(Flatten())\n",
    "    model.add(Dense(9)) # 변경가능\n",
    "    model.add(Dense(1))\n",
    "    \n",
    "    model.compile(loss='mse',optimizer='adam')\n",
    "    hist=model.fit(data_set3[0],filtered_csv,batch_size=4,epochs=10)  # x=list,y=list로 만들어야 함-가능함 \n",
    "    \n",
    "    print(len(data_set3))\n",
    "    # ,validation_data=(x_val,y_val)  \n",
    "    # score=model.evaluate(x_val,y_val,batch_size=3)\n",
    "    # yhat_test=model.predict(x_val,batch_size=3)\n",
    "    \n",
    "    # val data와 시각화 준비\n",
    "    \n",
    "    # 길이23인 y_train을 사진장수만큼 매칭 by 날짜 "
   ]
  },
  {
   "cell_type": "code",
   "execution_count": 57,
   "metadata": {},
   "outputs": [
    {
     "name": "stdout",
     "output_type": "stream",
     "text": [
      "length of K: 1\n",
      "Epoch 1/10\n",
      "23/23 [==============================] - 1s 22ms/step - loss: 139.8901\n",
      "Epoch 2/10\n",
      "23/23 [==============================] - 0s 650us/step - loss: 49.7465\n",
      "Epoch 3/10\n",
      "23/23 [==============================] - 0s 520us/step - loss: 73.3827\n",
      "Epoch 4/10\n",
      "23/23 [==============================] - 0s 562us/step - loss: 51.5770\n",
      "Epoch 5/10\n",
      "23/23 [==============================] - 0s 694us/step - loss: 39.1750\n",
      "Epoch 6/10\n",
      "23/23 [==============================] - 0s 606us/step - loss: 31.8415\n",
      "Epoch 7/10\n",
      "23/23 [==============================] - 0s 607us/step - loss: 28.0292\n",
      "Epoch 8/10\n",
      "23/23 [==============================] - 0s 478us/step - loss: 22.1056\n",
      "Epoch 9/10\n",
      "23/23 [==============================] - 0s 477us/step - loss: 17.1339\n",
      "Epoch 10/10\n",
      "23/23 [==============================] - 0s 564us/step - loss: 17.5820\n",
      "1\n"
     ]
    }
   ],
   "source": [
    "main()"
   ]
  },
  {
   "cell_type": "code",
   "execution_count": null,
   "metadata": {},
   "outputs": [],
   "source": [
    "# 사진만 시간 순서에 맞게 넣으면 됨_완료 "
   ]
  },
  {
   "cell_type": "code",
   "execution_count": null,
   "metadata": {},
   "outputs": [],
   "source": []
  },
  {
   "cell_type": "code",
   "execution_count": null,
   "metadata": {},
   "outputs": [],
   "source": []
  }
 ],
 "metadata": {
  "kernelspec": {
   "display_name": "Python 3",
   "language": "python",
   "name": "python3"
  },
  "language_info": {
   "codemirror_mode": {
    "name": "ipython",
    "version": 3
   },
   "file_extension": ".py",
   "mimetype": "text/x-python",
   "name": "python",
   "nbconvert_exporter": "python",
   "pygments_lexer": "ipython3",
   "version": "3.6.6"
  }
 },
 "nbformat": 4,
 "nbformat_minor": 2
}
