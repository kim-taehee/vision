{
 "cells": [
  {
   "cell_type": "code",
   "execution_count": 1,
   "metadata": {},
   "outputs": [
    {
     "name": "stderr",
     "output_type": "stream",
     "text": [
      "Using TensorFlow backend.\n"
     ]
    }
   ],
   "source": [
    "import  cv2\n",
    "import numpy as np\n",
    "import matplotlib.pyplot as plt\n",
    "import tensorflow\n",
    "from keras import models, layers\n",
    "from keras import backend\n",
    "from keras.wrappers.scikit_learn import KerasRegressor"
   ]
  },
  {
   "cell_type": "code",
   "execution_count": 3,
   "metadata": {},
   "outputs": [
    {
     "name": "stdout",
     "output_type": "stream",
     "text": [
      "2430000\n",
      "uint8\n",
      "900 900 3\n"
     ]
    }
   ],
   "source": [
    "img = cv2.imread('./himawari8_ahi_color_ch09_ko020ps_201507030100.png')\n",
    "print(img.size)\n",
    "print(img.dtype)\n",
    "print(img.shape[0],img.shape[1],img.shape[2])\n",
    "# 이미지 속성\n",
    "\n",
    "i=437\n",
    "j=532"
   ]
  },
  {
   "cell_type": "code",
   "execution_count": 3,
   "metadata": {},
   "outputs": [],
   "source": [
    "# 각 좌표값에서 수치 풀러와서 저장하기\n",
    "\n",
    "STN_LiST = [(437,532),(425,489),(430,538),(443,455),(448,440),(456,498),(459,456),(486,435),(494,476),(508,473),\n",
    "            (517,501),(497,532),(527,561),(535,529),(537,462),(574,452),(578,546),(593,430),(600,389),(564,439),\n",
    "            (664,436),(677,420),(574,503)]"
   ]
  },
  {
   "cell_type": "code",
   "execution_count": 4,
   "metadata": {},
   "outputs": [],
   "source": [
    "# 각 좌표값에서 주위범위 구해서 list로 iterateion 해야 함\n",
    "def stnChoose():\n",
    "    for k in STN_LiST :\n",
    "        # print(k)\n",
    "        i,j=k\n",
    "        # print(i,j)\n",
    "        img2=img[i-1:i+2,j-1:j+2] # 9pixel cutting\n",
    "        # print(img2)\n",
    "        W,H,C= img2.shape\n",
    "        img3 = img2.reshape(-1,W*H*C)\n",
    "        img3 = img3 / 255.0\n",
    "        #print(img3)\n",
    "        \n",
    "    print('ok')\n",
    "    #여기서 나오는 값들을 리그레션해줘야함"
   ]
  },
  {
   "cell_type": "code",
   "execution_count": 20,
   "metadata": {},
   "outputs": [
    {
     "name": "stdout",
     "output_type": "stream",
     "text": [
      "ok\n"
     ]
    }
   ],
   "source": [
    "# 여기부터 확인 수정 필요"
   ]
  },
  {
   "cell_type": "code",
   "execution_count": 6,
   "metadata": {},
   "outputs": [],
   "source": [
    "Nin=3*3\n",
    "# 여기까지 완성 "
   ]
  },
  {
   "cell_type": "code",
   "execution_count": 13,
   "metadata": {},
   "outputs": [],
   "source": [
    "# CNN이 리그레션\n",
    "class CNN_Regression(models.Sequential):\n",
    "    def __init__(self, input_shape):\n",
    "        super().__init__()\n",
    "\n",
    "        self.add(layers.Conv2D(32,kernel_size=(3,3), activation='relu', input_shape=input_shape) )\n",
    "        self.add(layers.Conv2D(64,(3,3),activation='relu'))\n",
    "        self.add(layers.MaxPool2D(pool_size=(2,2)))\n",
    "                 \n",
    "        self.add(layers.Flatten())\n",
    "        self.add(layers.Dense(32,activation='relu'))\n",
    "        \n",
    "        #self.add(layers.Dense(number_of_class,activation='softmax'))\n",
    "                 \n",
    "        self.compile(loss='mean_squared_error', optimizer = 'adam')\n",
    "    \n",
    "    clf = KerasRegressor(build_fn=__init__, nb_epoch=100, batch_size=5,verbose=0)\n"
   ]
  },
  {
   "cell_type": "code",
   "execution_count": null,
   "metadata": {},
   "outputs": [],
   "source": []
  },
  {
   "cell_type": "code",
   "execution_count": 16,
   "metadata": {},
   "outputs": [],
   "source": [
    "def main(): # 여기 수정 많이 \n",
    "    data=stnChoose() #여기수정\n",
    "    \n",
    "    model = CNN_Regression(data.input_shape , num_classes)\n",
    "    \n",
    "    history = model.fit(data.x_train,data.y_train,\n",
    "                       batch_size=1,\n",
    "                        epochs=1\n",
    "                       )\n",
    "    \n",
    "    score = model.evaluate(data.x_test,data.y_test)\n",
    "    print()\n",
    "    print('test loss:',score[0])\n",
    "    print('test accuracy:', score[1])\n",
    "    \n",
    "    plot_acc(history)\n",
    "    plt.show()"
   ]
  },
  {
   "cell_type": "code",
   "execution_count": 17,
   "metadata": {},
   "outputs": [
    {
     "name": "stdout",
     "output_type": "stream",
     "text": [
      "ok\n"
     ]
    },
    {
     "ename": "AttributeError",
     "evalue": "'NoneType' object has no attribute 'input_shape'",
     "output_type": "error",
     "traceback": [
      "\u001b[1;31m---------------------------------------------------------------------------\u001b[0m",
      "\u001b[1;31mAttributeError\u001b[0m                            Traceback (most recent call last)",
      "\u001b[1;32m<ipython-input-17-263240bbee7e>\u001b[0m in \u001b[0;36m<module>\u001b[1;34m\u001b[0m\n\u001b[1;32m----> 1\u001b[1;33m \u001b[0mmain\u001b[0m\u001b[1;33m(\u001b[0m\u001b[1;33m)\u001b[0m\u001b[1;33m\u001b[0m\u001b[0m\n\u001b[0m",
      "\u001b[1;32m<ipython-input-16-376fb261bfa3>\u001b[0m in \u001b[0;36mmain\u001b[1;34m()\u001b[0m\n\u001b[0;32m      2\u001b[0m     \u001b[0mdata\u001b[0m\u001b[1;33m=\u001b[0m\u001b[0mstnChoose\u001b[0m\u001b[1;33m(\u001b[0m\u001b[1;33m)\u001b[0m \u001b[1;31m#여기수정\u001b[0m\u001b[1;33m\u001b[0m\u001b[0m\n\u001b[0;32m      3\u001b[0m \u001b[1;33m\u001b[0m\u001b[0m\n\u001b[1;32m----> 4\u001b[1;33m     \u001b[0mmodel\u001b[0m \u001b[1;33m=\u001b[0m \u001b[0mCNN_Regression\u001b[0m\u001b[1;33m(\u001b[0m\u001b[0mdata\u001b[0m\u001b[1;33m.\u001b[0m\u001b[0minput_shape\u001b[0m \u001b[1;33m,\u001b[0m \u001b[0mnum_classes\u001b[0m\u001b[1;33m)\u001b[0m\u001b[1;33m\u001b[0m\u001b[0m\n\u001b[0m\u001b[0;32m      5\u001b[0m \u001b[1;33m\u001b[0m\u001b[0m\n\u001b[0;32m      6\u001b[0m     history = model.fit(data.x_train,data.y_train,\n",
      "\u001b[1;31mAttributeError\u001b[0m: 'NoneType' object has no attribute 'input_shape'"
     ]
    }
   ],
   "source": [
    "main()"
   ]
  },
  {
   "cell_type": "code",
   "execution_count": null,
   "metadata": {},
   "outputs": [],
   "source": []
  }
 ],
 "metadata": {
  "kernelspec": {
   "display_name": "Python 3",
   "language": "python",
   "name": "python3"
  },
  "language_info": {
   "codemirror_mode": {
    "name": "ipython",
    "version": 3
   },
   "file_extension": ".py",
   "mimetype": "text/x-python",
   "name": "python",
   "nbconvert_exporter": "python",
   "pygments_lexer": "ipython3",
   "version": "3.6.6"
  }
 },
 "nbformat": 4,
 "nbformat_minor": 2
}
