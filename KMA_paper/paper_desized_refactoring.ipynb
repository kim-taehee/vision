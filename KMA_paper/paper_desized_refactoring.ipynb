{
 "cells": [
  {
   "cell_type": "markdown",
   "metadata": {},
   "source": [
    "# 데이터 y 값 불러와서 match 해야함 "
   ]
  },
  {
   "cell_type": "code",
   "execution_count": 4,
   "metadata": {},
   "outputs": [
    {
     "name": "stderr",
     "output_type": "stream",
     "text": [
      "Using TensorFlow backend.\n"
     ]
    }
   ],
   "source": [
    "import tensorflow\n",
    "from keras import layers, Sequential, backend\n",
    "from keras.layers import Dense,Flatten,Conv2D,AveragePooling2D,MaxPool2D\n",
    "from PIL import Image\n",
    "import numpy as np\n",
    "import matplotlib.pyplot as plt\n",
    "import cv2\n",
    "import glob\n",
    "import pandas as pd"
   ]
  },
  {
   "cell_type": "code",
   "execution_count": 5,
   "metadata": {},
   "outputs": [],
   "source": [
    "\n",
    "def ExtractImage(path):\n",
    "    img_l=[]\n",
    "    img_name=[]\n",
    "    path= path+'*1800.png'  # 이미지 타입고르기 : 시간조정 \n",
    "\n",
    "    for filename in glob.iglob(path, recursive=True):\n",
    "        temp_img = cv2.imread(filename)\n",
    "        img_l.append(temp_img)\n",
    "        filename=filename[-16:-6]  # y값과 일치시키기 위해 필요한 joinkey의 뒷자리만큼 자르기 \n",
    "        img_name.append(filename)\n",
    "    return img_l,img_name\n",
    "\n",
    "\n",
    "def extractRadiation(y_path,img_name):\n",
    "    csvfile=pd.read_csv(y_path,encoding='cp949') # utf-8  or  cp949\n",
    "    filtered_csv=[]\n",
    "    for i in list(range(0,len(img_name))): #img의 날짜를 str ->int 필요함\n",
    "        temp=csvfile.loc[csvfile['일시']==int(img_name[i]),['일사(MJ/m2)']]\n",
    "        temp=temp.values.tolist()\n",
    "        filtered_csv.append(temp)\n",
    "    return filtered_csv\n",
    "\n",
    "\n",
    "def imgtoRGB(img_l,STN_List):\n",
    "    data_set3=[]  \n",
    "    for i in list(range(0,len(img_l))):       \n",
    "        img=img_l[i]  # 사진의 길이만큼 data_set2 tensor를 저장 \n",
    "\n",
    "\n",
    "        data_set2=[] # 두개 채널의 rgb tensor\n",
    "        for k in STN_List :  # 한개의 이미지에 대하여 23개 관측소x2channel, RGB값 산출\n",
    "            data_set=[]  # 각 사진에서 23 길이의 rgb를 list에 넣음\n",
    "            # print(k)\n",
    "            i,j=k\n",
    "            # print(i,j)\n",
    "            img_r=img[i-1:i+2,j-1:j+2] # 9pixel cutting\n",
    "            # print(img2)\n",
    "            data_set.append(img_r)\n",
    "\n",
    "            #merge channel \n",
    "            data_set2.append(data_set)\n",
    "        data_set2=np.array(data_set2).reshape(-1,3,3,3)\n",
    "        data_set3.append(data_set2)\n",
    "    return data_set3\n",
    "\n",
    "\n",
    "def reshapeXY(img_l,y_value,STN_List):\n",
    "    shape=(len(img_l)*len(STN_List) ,3,3,3) # length of img_l*leng of stn=42757\n",
    "    xx=np.asanyarray(x_rgb)\n",
    "    yy=np.asanyarray(y_value)\n",
    "    xx2=xx.reshape(shape)\n",
    "    flat_yy=[y for x in yy for y in x]\n",
    "    flat_yy2=[y for x in flat_yy for y in x]\n",
    "    return xx2,flat_yy2"
   ]
  },
  {
   "cell_type": "code",
   "execution_count": 6,
   "metadata": {},
   "outputs": [],
   "source": [
    "# 각 좌표값에서 수치 풀러와서 저장하기\n",
    "# List의 조정으로 원하는 STN 조정 = [춘천,서울,인천,청주,포항,대구,전주,부산,흑산도,제주,진주]\n",
    "# STN_List = [(425,489),(443,455),(448,440),(494,476),(527,561),(535,529),(537,462),(578,546),(600,389),(664,436),(574,503)]\n",
    "# STN_List = [춘천(425,489),서울(443,455),인천(448,440),청주(494,476),포항(527,561),대구(535,529),전주(537,462),부산(578,546),흑산도(600,389),제주(664,436),진주(574,503)]\n",
    "STN_List = [(425,489),(443,455),(448,440),(494,476),(527,561),(535,529),(537,462),(578,546),(600,389),(664,436),(574,503)]"
   ]
  },
  {
   "cell_type": "code",
   "execution_count": 7,
   "metadata": {},
   "outputs": [],
   "source": [
    "# make test file\n",
    "path=\"D:/DB/wv2016/1m/\"\n",
    "y_path='./y-train.csv' #station을 줄이면 y값.csv파일도 고쳐줘야함,y값만 따로 정리할 필요가 있음 \n",
    "\n",
    "img_l,img_name=ExtractImage(path)\n",
    "y_value=extractRadiation(y_path,img_name)\n",
    "x_rgb=imgtoRGB(img_l,STN_List)\n",
    "x_train,y_train=reshapeXY(img_l,y_value,STN_List)"
   ]
  },
  {
   "cell_type": "code",
   "execution_count": 61,
   "metadata": {},
   "outputs": [],
   "source": [
    "# make valid file\n",
    "path=\"D:/DB/2015new2/\"\n",
    "y_path='./y-test/y-test.csv'  #station을 줄이면 y값.csv파일도 고쳐줘야함\n",
    "\n",
    "img_l,img_name=ExtractImage(path)\n",
    "y_value=extractRadiation(y_path,img_name)\n",
    "x_rgb=imgtoRGB(img_l,STN_List)\n",
    "x_val,y_val=reshapeXY(img_l,y_value,STN_List)"
   ]
  },
  {
   "cell_type": "code",
   "execution_count": 73,
   "metadata": {},
   "outputs": [],
   "source": [
    "def paper_model(x_train,y_train,x_val,y_val):\n",
    "    model = Sequential()\n",
    "    model.add(Conv2D(36,(2,2),activation='sigmoid',input_shape=(3,3,3)))\n",
    "    model.add(Conv2D(36,(2,2),activation='sigmoid',input_shape=(3,3,3)))\n",
    "    model.add(Conv2D(36,(2,2),activation='sigmoid',input_shape=(3,3,3)))\n",
    "    model.add(MaxPool2D(pool_size=(2,2)))\n",
    "\n",
    "    model.add(Flatten())\n",
    "    model.add(Dense(36,activation='sigmoid')) # 변경가능\n",
    "    model.add(Dense(24,activation='relu')) # 변경가능\n",
    "\n",
    "    model.add(Dense(1))\n",
    "    model.compile(loss='mse',optimizer='rmsprop',metrics=['mae'])   \n",
    "    model.summary()\n",
    "    # model.save('paper.h5')\n",
    "\n",
    "\n",
    "    # -----\n",
    "    hist=model.fit(x_train,y_train,batch_size=100,epochs=5,validation_data=(x_val,y_val) ) \n",
    "    pred=model.predict(x_val)\n",
    "    #hist=model.fit(x_train,y_train,batch_size=1000,epochs=30 )\n",
    "    # predict부분 구현해야 함   \n",
    "    return hist,pred"
   ]
  },
  {
   "cell_type": "code",
   "execution_count": 74,
   "metadata": {},
   "outputs": [
    {
     "name": "stdout",
     "output_type": "stream",
     "text": [
      "_________________________________________________________________\n",
      "Layer (type)                 Output Shape              Param #   \n",
      "=================================================================\n",
      "conv2d_8 (Conv2D)            (None, 2, 2, 36)          468       \n",
      "_________________________________________________________________\n",
      "max_pooling2d_8 (MaxPooling2 (None, 1, 1, 36)          0         \n",
      "_________________________________________________________________\n",
      "flatten_8 (Flatten)          (None, 36)                0         \n",
      "_________________________________________________________________\n",
      "dense_22 (Dense)             (None, 36)                1332      \n",
      "_________________________________________________________________\n",
      "dense_23 (Dense)             (None, 24)                888       \n",
      "_________________________________________________________________\n",
      "dense_24 (Dense)             (None, 1)                 25        \n",
      "=================================================================\n",
      "Total params: 2,713\n",
      "Trainable params: 2,713\n",
      "Non-trainable params: 0\n",
      "_________________________________________________________________\n",
      "Train on 341 samples, validate on 396 samples\n",
      "Epoch 1/5\n",
      "341/341 [==============================] - 1s 2ms/step - loss: 0.1000 - mean_absolute_error: 0.2305 - val_loss: 0.0012 - val_mean_absolute_error: 0.0253\n",
      "Epoch 2/5\n",
      "341/341 [==============================] - 0s 44us/step - loss: 0.0022 - mean_absolute_error: 0.0351 - val_loss: 0.0015 - val_mean_absolute_error: 0.0275\n",
      "Epoch 3/5\n",
      "341/341 [==============================] - 0s 64us/step - loss: 0.0014 - mean_absolute_error: 0.0280 - val_loss: 0.0020 - val_mean_absolute_error: 0.0371\n",
      "Epoch 4/5\n",
      "341/341 [==============================] - 0s 44us/step - loss: 0.0012 - mean_absolute_error: 0.0273 - val_loss: 0.0011 - val_mean_absolute_error: 0.0249\n",
      "Epoch 5/5\n",
      "341/341 [==============================] - 0s 44us/step - loss: 0.0011 - mean_absolute_error: 0.0259 - val_loss: 0.0021 - val_mean_absolute_error: 0.0407\n"
     ]
    }
   ],
   "source": [
    "hist,pred=paper_model(x_train,y_train,x_val,y_val)"
   ]
  },
  {
   "cell_type": "code",
   "execution_count": 78,
   "metadata": {},
   "outputs": [
    {
     "data": {
      "text/plain": [
       "array([[ 1.        , -0.08576504],\n",
       "       [-0.08576504,  1.        ]])"
      ]
     },
     "execution_count": 78,
     "metadata": {},
     "output_type": "execute_result"
    }
   ],
   "source": [
    "pred2=[y for x in pred for y in x]\n",
    "np.corrcoef(pred2,y_val)"
   ]
  },
  {
   "cell_type": "code",
   "execution_count": 80,
   "metadata": {
    "scrolled": false
   },
   "outputs": [
    {
     "data": {
      "image/png": "[encoded data removed]",
      "text/plain": [
       "<Figure size 432x288 with 1 Axes>"
      ]
     },
     "metadata": {
      "needs_background": "light"
     },
     "output_type": "display_data"
    }
   ],
   "source": [
    " # 정확도를 위해서는 월별로, 지점별로 테스트 해봐야할것 같다.\n",
    "\n",
    "hist_dict=hist.history\n",
    "hist_dict.keys()\n",
    "\n",
    "val_loss= hist_dict['val_loss']\n",
    "loss = hist_dict['loss']\n",
    "epochs =range(1,len(loss)+1)\n",
    "\n",
    "plt.plot(epochs,loss,'bo-',label='Training loss')\n",
    "plt.plot(epochs,val_loss,'r^-',label='val loss')\n",
    "\n",
    "plt.title('loss graph, Nov, 18h')\n",
    "plt.xlabel('epochs')\n",
    "plt.ylabel('loss')\n",
    "plt.legend()\n",
    "\n",
    "plt.show()"
   ]
  },
  {
   "cell_type": "code",
   "execution_count": 81,
   "metadata": {},
   "outputs": [
    {
     "data": {
      "text/plain": [
       "0.021181997606364182"
      ]
     },
     "execution_count": 81,
     "metadata": {},
     "output_type": "execute_result"
    }
   ],
   "source": [
    "np.mean(loss)"
   ]
  },
  {
   "cell_type": "code",
   "execution_count": 82,
   "metadata": {},
   "outputs": [
    {
     "data": {
      "text/plain": [
       "0.0015764828326857903"
      ]
     },
     "execution_count": 82,
     "metadata": {},
     "output_type": "execute_result"
    }
   ],
   "source": [
    "np.mean(val_loss)"
   ]
  },
  {
   "cell_type": "code",
   "execution_count": 2514,
   "metadata": {},
   "outputs": [],
   "source": [
    "# 월구분,stn구분은 해서 비교표를 결과로 넣을 것"
   ]
  },
  {
   "cell_type": "code",
   "execution_count": null,
   "metadata": {},
   "outputs": [],
   "source": []
  },
  {
   "cell_type": "code",
   "execution_count": null,
   "metadata": {},
   "outputs": [],
   "source": []
  },
  {
   "cell_type": "markdown",
   "metadata": {},
   "source": [
    "# -----------------------------------------------------------"
   ]
  },
  {
   "cell_type": "code",
   "execution_count": null,
   "metadata": {},
   "outputs": [],
   "source": [
    "# 중간전처리 코드  #15년도의 image folder정리 "
   ]
  },
  {
   "cell_type": "code",
   "execution_count": 1014,
   "metadata": {},
   "outputs": [
    {
     "ename": "NameError",
     "evalue": "name 'img_val_name' is not defined",
     "output_type": "error",
     "traceback": [
      "\u001b[1;31m---------------------------------------------------------------------------\u001b[0m",
      "\u001b[1;31mNameError\u001b[0m                                 Traceback (most recent call last)",
      "\u001b[1;32m<ipython-input-1014-df175d0132ef>\u001b[0m in \u001b[0;36m<module>\u001b[1;34m\u001b[0m\n\u001b[0;32m      1\u001b[0m \u001b[0mcsvfile\u001b[0m\u001b[1;33m=\u001b[0m\u001b[0mpd\u001b[0m\u001b[1;33m.\u001b[0m\u001b[0mread_csv\u001b[0m\u001b[1;33m(\u001b[0m\u001b[1;34m'./y-test.csv'\u001b[0m\u001b[1;33m,\u001b[0m\u001b[0mencoding\u001b[0m\u001b[1;33m=\u001b[0m\u001b[1;34m'cp949'\u001b[0m\u001b[1;33m)\u001b[0m\u001b[1;33m\u001b[0m\u001b[0m\n\u001b[0;32m      2\u001b[0m \u001b[0mfiltered_csv\u001b[0m\u001b[1;33m=\u001b[0m\u001b[1;33m[\u001b[0m\u001b[1;33m]\u001b[0m\u001b[1;33m\u001b[0m\u001b[0m\n\u001b[1;32m----> 3\u001b[1;33m \u001b[1;32mfor\u001b[0m \u001b[0mi\u001b[0m \u001b[1;32min\u001b[0m \u001b[0mlist\u001b[0m\u001b[1;33m(\u001b[0m\u001b[0mrange\u001b[0m\u001b[1;33m(\u001b[0m\u001b[1;36m0\u001b[0m\u001b[1;33m,\u001b[0m\u001b[0mlen\u001b[0m\u001b[1;33m(\u001b[0m\u001b[0mimg_val_name\u001b[0m\u001b[1;33m)\u001b[0m\u001b[1;33m)\u001b[0m\u001b[1;33m)\u001b[0m\u001b[1;33m:\u001b[0m \u001b[1;31m#img의 날짜를 str ->int 필요함\u001b[0m\u001b[1;33m\u001b[0m\u001b[0m\n\u001b[0m\u001b[0;32m      4\u001b[0m     \u001b[0mtemp\u001b[0m\u001b[1;33m=\u001b[0m\u001b[0mcsvfile\u001b[0m\u001b[1;33m.\u001b[0m\u001b[0mloc\u001b[0m\u001b[1;33m[\u001b[0m\u001b[0mcsvfile\u001b[0m\u001b[1;33m[\u001b[0m\u001b[1;34m'일시'\u001b[0m\u001b[1;33m]\u001b[0m\u001b[1;33m==\u001b[0m\u001b[0mint\u001b[0m\u001b[1;33m(\u001b[0m\u001b[0mimg_val_name\u001b[0m\u001b[1;33m[\u001b[0m\u001b[0mi\u001b[0m\u001b[1;33m]\u001b[0m\u001b[1;33m)\u001b[0m\u001b[1;33m,\u001b[0m\u001b[1;33m[\u001b[0m\u001b[1;34m'일사(MJ/m2)'\u001b[0m\u001b[1;33m]\u001b[0m\u001b[1;33m]\u001b[0m\u001b[1;33m\u001b[0m\u001b[0m\n\u001b[0;32m      5\u001b[0m     \u001b[0mtemp\u001b[0m\u001b[1;33m=\u001b[0m\u001b[0mtemp\u001b[0m\u001b[1;33m.\u001b[0m\u001b[0mvalues\u001b[0m\u001b[1;33m.\u001b[0m\u001b[0mtolist\u001b[0m\u001b[1;33m(\u001b[0m\u001b[1;33m)\u001b[0m\u001b[1;33m\u001b[0m\u001b[0m\n",
      "\u001b[1;31mNameError\u001b[0m: name 'img_val_name' is not defined"
     ]
    }
   ],
   "source": [
    "csvfile=pd.read_csv('./y-test.csv',encoding='cp949')\n",
    "filtered_csv=[]\n",
    "for i in list(range(0,len(img_val_name))): #img의 날짜를 str ->int 필요함\n",
    "    temp=csvfile.loc[csvfile['일시']==int(img_val_name[i]),['일사(MJ/m2)']]\n",
    "    temp=temp.values.tolist()\n",
    "    filtered_csv.append(temp)\n"
   ]
  },
  {
   "cell_type": "code",
   "execution_count": 161,
   "metadata": {
    "scrolled": false
   },
   "outputs": [],
   "source": [
    "#csvfile['일시'].value_counts()"
   ]
  },
  {
   "cell_type": "code",
   "execution_count": 159,
   "metadata": {},
   "outputs": [],
   "source": [
    "v_count=csvfile['일시'].value_counts()"
   ]
  },
  {
   "cell_type": "code",
   "execution_count": 1008,
   "metadata": {},
   "outputs": [
    {
     "ename": "NameError",
     "evalue": "name 'v_count' is not defined",
     "output_type": "error",
     "traceback": [
      "\u001b[1;31m---------------------------------------------------------------------------\u001b[0m",
      "\u001b[1;31mNameError\u001b[0m                                 Traceback (most recent call last)",
      "\u001b[1;32m<ipython-input-1008-cbdc1445d396>\u001b[0m in \u001b[0;36m<module>\u001b[1;34m\u001b[0m\n\u001b[1;32m----> 1\u001b[1;33m \u001b[0mv_count\u001b[0m\u001b[1;33m.\u001b[0m\u001b[0mvalue_counts\u001b[0m\u001b[1;33m(\u001b[0m\u001b[1;33m)\u001b[0m\u001b[1;33m\u001b[0m\u001b[0m\n\u001b[0m\u001b[0;32m      2\u001b[0m \u001b[1;31m# denoise.detmp()\u001b[0m\u001b[1;33m\u001b[0m\u001b[1;33m\u001b[0m\u001b[0m\n\u001b[0;32m      3\u001b[0m \u001b[0mv_count\u001b[0m\u001b[1;33m.\u001b[0m\u001b[0mshape\u001b[0m\u001b[1;33m\u001b[0m\u001b[0m\n",
      "\u001b[1;31mNameError\u001b[0m: name 'v_count' is not defined"
     ]
    }
   ],
   "source": [
    "v_count.value_counts()\n",
    "# denoise.detmp()"
   ]
  },
  {
   "cell_type": "code",
   "execution_count": null,
   "metadata": {},
   "outputs": [],
   "source": []
  }
 ],
 "metadata": {
  "kernelspec": {
   "display_name": "Python 3",
   "language": "python",
   "name": "python3"
  },
  "language_info": {
   "codemirror_mode": {
    "name": "ipython",
    "version": 3
   },
   "file_extension": ".py",
   "mimetype": "text/x-python",
   "name": "python",
   "nbconvert_exporter": "python",
   "pygments_lexer": "ipython3",
   "version": "3.6.6"
  }
 },
 "nbformat": 4,
 "nbformat_minor": 2
}
