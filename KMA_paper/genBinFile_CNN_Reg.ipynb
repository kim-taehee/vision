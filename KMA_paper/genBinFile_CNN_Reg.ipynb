{
 "cells": [
  {
   "cell_type": "markdown",
   "metadata": {},
   "source": [
    "# 여기서부터 test코드"
   ]
  },
  {
   "cell_type": "code",
   "execution_count": 176,
   "metadata": {},
   "outputs": [],
   "source": [
    "import PIL \n",
    "from PIL import Image \n",
    "import numpy as np \n",
    "import os \n",
    "import matplotlib.pyplot as plt \n",
    "\n",
    " \n",
    "# data directory \n",
    "input = os.getcwd() + \"/data\" \n",
    "output = os.getcwd() + \"/data/data.bin\" \n",
    "imageSize = 900\n",
    "imageDepth = 3\n",
    "debugEncodedImage = False \n",
    "\n",
    "\n",
    "# init file\n",
    "subDirs = os.listdir(input) \n",
    "numberOfClasses = len(input) #디렉터리수만큼 결정 \n",
    " \n",
    "try: \n",
    "    os.remove(output) \n",
    "except OSError: \n",
    "    pass \n",
    "\n",
    " \n",
    "outputFile = open(output, \"ab\") \n",
    "label = -1  # 라벨의 카테고리,인덱스가 0부터시작하니까 -1   # 리그레션이라 안씀 \n",
    "totalImageCount = 0 \n"
   ]
  },
  {
   "cell_type": "code",
   "execution_count": 177,
   "metadata": {
    "scrolled": true
   },
   "outputs": [
    {
     "name": "stdout",
     "output_type": "stream",
     "text": [
      "writing 100 images, C:\\Users\\taehee\\workspace/data\\ir\n",
      "writing 100 images, C:\\Users\\taehee\\workspace/data\\wv\n",
      "Total image count:  200\n",
      "Succeed, Generate the Binary file\n",
      "You can find the binary file :  C:\\Users\\taehee\\workspace/data/data.bin\n"
     ]
    }
   ],
   "source": [
    "\n",
    "for subDir in subDirs: \n",
    "    subDirPath = os.path.join(input, subDir) #각 하부디렉토리 접근\n",
    "\n",
    " \n",
    "    # filter not directory \n",
    "    if not os.path.isdir(subDirPath): \n",
    "        continue \n",
    "\n",
    " \n",
    "    imageFileList = os.listdir(subDirPath) # 폴더에 따라 카테고라 부여\n",
    "     # label += 1 \n",
    "\n",
    "    print(\"writing %3d images, %s\" % (len(imageFileList), subDirPath)) #폴더에 라벨부여\n",
    "    totalImageCount += len(imageFileList) \n",
    "    \n",
    "\n",
    " \n",
    "    for imageFile in imageFileList: \n",
    "        imagePath = os.path.join(subDirPath, imageFile) #바이너리로 저장\n",
    "        # convert to binary bitmap given image and write to law output file \n",
    "        # def writeBinaray(outputFile, imagePath, label): \n",
    "        img1 = cv2.imread(imagePath) \n",
    "        # img2 = img1.resize((imageSize, imageSize), PIL.Image.ANTIALIAS) # 이미지 재조정 삭제\n",
    "        img2 = (np.array(img1)) \n",
    "\n",
    "        b = img2[:,:,0].flatten() \n",
    "        g = img2[:,:,1].flatten() \n",
    "        r = img2[:,:,2].flatten() \n",
    "\n",
    "\n",
    "        out = np.array( list(r) + list(g) + list(b), np.uint8) # 여기 확인해봐야함\n",
    "        # showImage(r, g, b)  ########  확인용 ###########\n",
    "        outputFile.write(out.tobytes()) \n",
    "        \n",
    "outputFile.close() \n",
    "\n",
    "        \n",
    "# if you want to show the encoded image. set up 'debugEncodedImage' flag \n",
    "#if debugEncodedImage: \n",
    "\n",
    "    \n",
    "        \n",
    "\n",
    "print(\"Total image count: \", totalImageCount) \n",
    "print(\"Succeed, Generate the Binary file\") \n",
    "print(\"You can find the binary file : \", output) \n"
   ]
  },
  {
   "cell_type": "code",
   "execution_count": 161,
   "metadata": {},
   "outputs": [],
   "source": [
    "# 여기까지 일단 1차 테스트  완료"
   ]
  },
  {
   "cell_type": "code",
   "execution_count": 162,
   "metadata": {},
   "outputs": [],
   "source": [
    "# 리팩토링 필요 "
   ]
  },
  {
   "cell_type": "code",
   "execution_count": null,
   "metadata": {},
   "outputs": [],
   "source": []
  }
 ],
 "metadata": {
  "kernelspec": {
   "display_name": "Python 3",
   "language": "python",
   "name": "python3"
  },
  "language_info": {
   "codemirror_mode": {
    "name": "ipython",
    "version": 3
   },
   "file_extension": ".py",
   "mimetype": "text/x-python",
   "name": "python",
   "nbconvert_exporter": "python",
   "pygments_lexer": "ipython3",
   "version": "3.6.6"
  }
 },
 "nbformat": 4,
 "nbformat_minor": 2
}
