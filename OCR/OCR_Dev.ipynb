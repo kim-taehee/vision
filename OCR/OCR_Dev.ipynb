{
 "cells": [
  {
   "cell_type": "markdown",
   "metadata": {},
   "source": [
    "# 1안 PDF->text->OCR"
   ]
  },
  {
   "cell_type": "code",
   "execution_count": 28,
   "metadata": {},
   "outputs": [],
   "source": [
    "import sys\n",
    "sys.path.append('C:/Program Files/Anaconda3/Lib/site-packages')\n",
    "\n",
    "from wand.image import Image as wimage\n",
    "# Converting first page into JPG\n",
    "with wimage(filename=\"C:/Users/mando/Desktop/test.pdf\") as img:\n",
    "    img.save(filename=\"C:/Users/mando/Desktop/temp.jpg\")\n",
    "# 해상도가 너무 떨어짐, 2안을 고려 \n",
    "# DRM 걸려서 현재 안됨\n",
    "\n",
    "from PIL import Image\n",
    "from pytesseract import image_to_string\n",
    "import os\n",
    "import path\n",
    "from nltk.tokenize import word_tokenize\n",
    "from nltk.corpus import stopwords"
   ]
  },
  {
   "cell_type": "code",
   "execution_count": 29,
   "metadata": {},
   "outputs": [],
   "source": [
    "def OCRWrite(imgfile,lang='eng+kor'):  \n",
    "    text=image_to_string(img,lang=lang)    \n",
    "    OCRdata = \"\"  # empty string\n",
    "    myfile = open(\"ocr.txt\",\"w\",encoding='utf-8')\n",
    "    myfile.write(text)\n",
    "    myfile.close()"
   ]
  },
  {
   "cell_type": "code",
   "execution_count": 35,
   "metadata": {},
   "outputs": [],
   "source": [
    "def OCWread(word):\n",
    "    myfile = open(\"ocr.txt\",\"r\",encoding='utf-8')\n",
    "    OCRdata = \"\"  # empty string\n",
    "    lines = myfile.readlines()\n",
    "    for line in lines:\n",
    "        OCRdata = OCRdata + line.strip();\n",
    "    myfile.close()\n",
    "    \n",
    "    leng=len(word)\n",
    "    if word is not \"\":\n",
    "        index=0\n",
    "        sub_index = OCRdata[+index:].find(word)  #찾은 위치만큼 검색시작위치 더해주기 \n",
    "        inputword_image(index,sub_index,OCRdata)"
   ]
  },
  {
   "cell_type": "code",
   "execution_count": 38,
   "metadata": {},
   "outputs": [],
   "source": [
    "def inputword_image(index,sub_index,OCRdata):\n",
    "    if sub_index is not -1:            \n",
    "\n",
    "        print(word,\"의 검색위치:\", index+sub_index)\n",
    "        print(\"검색 결과:\",OCRdata[index+sub_index:index+sub_index+len(word)]\n",
    "                  , \"\", OCRdata[index+sub_index+len(word):index+sub_index+len(word)+20],\"\\n\")\n",
    "        index+=sub_index+leng                # 중복검색을 피하기 위해 단어 뒤 지점을 새로운 시작지점으로 설정                     \n",
    "        sub_index = OCRdata[+index:].find(word)\n",
    "        print('\\n')\n",
    "\n",
    "        inputword_image(index,sub_index,OCRdata)    #recursive function\n"
   ]
  },
  {
   "cell_type": "code",
   "execution_count": 41,
   "metadata": {},
   "outputs": [
    {
     "name": "stdout",
     "output_type": "stream",
     "text": [
      "차종을 입력하세요: 다 음\n",
      "다 음 의 검색위치: 0\n",
      "검색 결과: 다 음   사용법Google Search I' \n",
      "\n",
      "\n",
      "\n"
     ]
    }
   ],
   "source": [
    "img=Image.open('C:/Users/mando/Desktop/test.jpg')\n",
    "OCRWrite(img)\n",
    "word = input(\"차종을 입력하세요: \")\n",
    "OCWread(word)"
   ]
  },
  {
   "cell_type": "code",
   "execution_count": 18,
   "metadata": {},
   "outputs": [],
   "source": [
    "#위의 내용은 pdf선택하는 것으로 함수와 시켜야함 "
   ]
  },
  {
   "cell_type": "markdown",
   "metadata": {},
   "source": [
    "# 2안  PDF->OCR (make class) ver 2"
   ]
  },
  {
   "cell_type": "code",
   "execution_count": 42,
   "metadata": {},
   "outputs": [],
   "source": [
    "# 문서형식은 잘 되지만, 이미지 형식의 도면은 안됨\n",
    "import sys\n",
    "sys.path.append('C:/Program Files/Anaconda3/Lib/site-packages')\n",
    "# import packages\n",
    "import PyPDF2\n",
    "import re"
   ]
  },
  {
   "cell_type": "code",
   "execution_count": 43,
   "metadata": {},
   "outputs": [],
   "source": [
    "def Inputword(word,NumPages):\n",
    "    for i in range(0, NumPages):\n",
    "        PageObj = object.getPage(i)\n",
    "        bin_page = PageObj.extractText()\n",
    "        sub_index = bin_page.find(word)  #찾은 위치만큼 검색시작위치 더해주기\n",
    "\n",
    "        if word is not \"\":\n",
    "            index=0 # page마다 string index 초기화 \n",
    "            sub_index = bin_page[index:].find(word)  #찾은 위치만큼 검색시작위치 더해주기 \n",
    "            while sub_index is not -1:   \n",
    "                leng=len(word)\n",
    "                print(i+1,\"page\")\n",
    "                print(word,\"의 검색위치:\", index+sub_index)\n",
    "                print(\"검색 결과:\",bin_page[index+sub_index:index+sub_index+len(word)]\n",
    "                      , \"\", bin_page[index+sub_index+len(word):index+sub_index+len(word)+20],\"\\n\")\n",
    "                index+=sub_index+leng    # 중복검색을 피하기 위해 단어 뒤 지점을 새로운 시작지점으로 설정                     \n",
    "                sub_index = bin_page[+index:].find(word)\n",
    "                # print(sub_index) # loop 나가는지 확인\n",
    "        else:\n",
    "            print(\"다시 입력하세요\")\n",
    "            break"
   ]
  },
  {
   "cell_type": "code",
   "execution_count": 44,
   "metadata": {},
   "outputs": [
    {
     "name": "stdout",
     "output_type": "stream",
     "text": [
      "차종을 입력하세요: node\n",
      "3 page\n",
      "node 의 검색위치: 164\n",
      "검색 결과: node  s to create a univer \n",
      "\n",
      "7 page\n",
      "node 의 검색위치: 826\n",
      "검색 결과: node   are all related to  \n",
      "\n",
      "9 page\n",
      "node 의 검색위치: 1671\n",
      "검색 결과: node   from which further  \n",
      "\n"
     ]
    }
   ],
   "source": [
    "# open the pdf file\n",
    "object = PyPDF2.PdfFileReader(\"C:/Users/mando/Desktop/coin.pdf\")\n",
    "#docInfo = object.getDocumentInfo()\n",
    "#print(docInfo)\n",
    "\n",
    "# get number of pages\n",
    "NumPages = object.getNumPages()\n",
    "word = input(\"차종을 입력하세요: \")\n",
    "\n",
    "Inputword(word,NumPages)"
   ]
  },
  {
   "cell_type": "code",
   "execution_count": 100,
   "metadata": {},
   "outputs": [],
   "source": [
    "# 참고사항\n",
    "# 여러 단어 중복검색 해결방법 (해결)\n",
    "# 한글 문제 "
   ]
  },
  {
   "cell_type": "code",
   "execution_count": 101,
   "metadata": {},
   "outputs": [],
   "source": [
    "# 협의사항\n",
    "# pdf를 어떻게 검색 및 선택할 것인지\n",
    "# 도면 해상도 문제\n"
   ]
  },
  {
   "cell_type": "code",
   "execution_count": null,
   "metadata": {},
   "outputs": [],
   "source": []
  }
 ],
 "metadata": {
  "kernelspec": {
   "display_name": "Python 3",
   "language": "python",
   "name": "python3"
  },
  "language_info": {
   "codemirror_mode": {
    "name": "ipython",
    "version": 3
   },
   "file_extension": ".py",
   "mimetype": "text/x-python",
   "name": "python",
   "nbconvert_exporter": "python",
   "pygments_lexer": "ipython3",
   "version": "3.6.7"
  }
 },
 "nbformat": 4,
 "nbformat_minor": 2
}
