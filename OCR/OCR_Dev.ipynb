{
 "cells": [
  {
   "cell_type": "markdown",
   "metadata": {},
   "source": [
    "# 1안 PDF->text->OCR("
   ]
  },
  {
   "cell_type": "code",
   "execution_count": 1,
   "metadata": {},
   "outputs": [],
   "source": [
    "# pdfminer는 버전관리와 오류가 많아서 PyPDF2 선택 \n",
    "import sys\n",
    "sys.path.append('C:/Program Files/Anaconda3/Lib/site-packages')\n",
    "import PyPDF2\n",
    "pdfFileObject = open('C:/Users/mando/Desktop/coin.pdf', 'rb')\n",
    "\n",
    "pdfReader = PyPDF2.PdfFileReader(pdfFileObject)\n",
    "count = pdfReader.numPages\n",
    "file=open('ocr.txt','w',encoding='utf-8')\n",
    "for i in range(count):\n",
    "    page = pdfReader.getPage(i)\n",
    "    # print(page.extractText())\n",
    "    docu=page.extractText()\n",
    "    file.write(docu)\n",
    "file.close()\n",
    "\n",
    "# pdf 자체를 검색해서 불러오도록 해야함"
   ]
  },
  {
   "cell_type": "code",
   "execution_count": 2,
   "metadata": {},
   "outputs": [],
   "source": [
    "myfile = open(\"ocr.txt\",\"r\",encoding='utf-8')\n",
    "OCRdata = \"\"  # empty string\n",
    "lines = myfile.readlines()\n",
    "for line in lines:\n",
    "    OCRdata = OCRdata + line.strip();\n",
    "myfile.close()"
   ]
  },
  {
   "cell_type": "code",
   "execution_count": 3,
   "metadata": {},
   "outputs": [],
   "source": [
    "#위의 내용은 pdf선택하는 것으로 함수와 시켜야함 "
   ]
  },
  {
   "cell_type": "code",
   "execution_count": 6,
   "metadata": {},
   "outputs": [],
   "source": [
    "\n",
    "# pdf page\n",
    "pdfReader = PyPDF2.PdfFileReader(pdfFileObject)\n",
    "count = pdfReader.numPages\n",
    "bin_page=\"\"\n",
    "for i in range(count):  # OCRdata를 딕셔너리로 해서 page 저장 \n",
    "    page = pdfReader.getPage(i)\n",
    "    OCRdata=page.extractText().splitlines() # 줄로 안끊고 한 문장으로 읽기\n",
    "    OCRdata=\"\".join(str(x) for x in OCRdata)# list to string\n",
    "    bin_page+=OCRdata"
   ]
  },
  {
   "cell_type": "code",
   "execution_count": 7,
   "metadata": {},
   "outputs": [
    {
     "name": "stdout",
     "output_type": "stream",
     "text": [
      "node 의 검색위치: 2119\n",
      "검색 결과: nodes to create a un\n",
      "\n",
      "\n",
      "node 의 검색위치: 9112\n",
      "검색 결과: node are all related\n",
      "\n",
      "\n",
      "node 의 검색위치: 13363\n",
      "검색 결과: node from which furt\n",
      "\n",
      "\n"
     ]
    }
   ],
   "source": [
    "word='node'\n",
    "leng=len(word)\n",
    "if word is not \"\":\n",
    "    index=0\n",
    "    sub_index = bin_page[+index:].find(word)  #찾은 위치만큼 검색시작위치 더해주기 \n",
    "    def inputword(index,sub_index):\n",
    "        if sub_index is not -1:            \n",
    "\n",
    "            print(word,\"의 검색위치:\", index+sub_index)\n",
    "            print(\"검색 결과:\",bin_page[index+sub_index:index+sub_index+20])\n",
    "            index+=sub_index+leng                # 중복검색을 피하기 위해 단어 뒤 지점을 새로운 시작지점으로 설정                     \n",
    "            sub_index = bin_page[+index:].find(word)\n",
    "            print('\\n')\n",
    "            \n",
    "            inputword(index,sub_index)    #recursive function\n",
    "    \n",
    "inputword(index,sub_index)"
   ]
  },
  {
   "cell_type": "markdown",
   "metadata": {},
   "source": [
    "# 2안 PDF->OCR ver 1"
   ]
  },
  {
   "cell_type": "code",
   "execution_count": 15,
   "metadata": {},
   "outputs": [],
   "source": [
    "import sys\n",
    "sys.path.append('C:/Program Files/Anaconda3/Lib/site-packages')\n",
    "from nltk.tokenize import word_tokenize\n",
    "from nltk.corpus import stopwords\n",
    "# nltk.download() # 영어 corpora download 1번만 실행 \n",
    "import re\n",
    "import PyPDF2 # pdfminer는 버전관리와 오류가 많아서 PyPDF2 선택 \n",
    "pdfFileObject = open('C:/Users/mando/Desktop/coin.pdf', 'rb')\n",
    "\n",
    "# pdf page\n",
    "pdfReader = PyPDF2.PdfFileReader(pdfFileObject)\n",
    "count = pdfReader.numPages\n",
    "bin_page=\"\"\n",
    "page_dict={}\n",
    "\n",
    "for i in range(count):  # OCRdata를 딕셔너리로 해서 page 저장 \n",
    "    page = pdfReader.getPage(i)\n",
    "    OCRdata=page.extractText().splitlines() # 줄로 안끊고 한 문장으로 읽기\n",
    "    OCRdata=\"\".join(str(x) for x in OCRdata)# list to string\n",
    "    page_dict[i] ={OCRdata,len(OCRdata)} # to find page\n",
    "    bin_page+=OCRdata"
   ]
  },
  {
   "cell_type": "code",
   "execution_count": 16,
   "metadata": {},
   "outputs": [],
   "source": [
    "word='node'\n",
    "leng=len(word)\n",
    "if word is not \"\":\n",
    "    index=0\n",
    "    sub_index = bin_page[+index:].find(word)  #찾은 위치만큼 검색시작위치 더해주기 \n",
    "    def inputword(index,sub_index):\n",
    "        if sub_index is not -1:            \n",
    "\n",
    "            print(word,\"의 검색위치:\", index+sub_index)\n",
    "            print(\"검색 결과:\",bin_page[index+sub_index:index+sub_index+20])\n",
    "            index+=sub_index+leng                # 중복검색을 피하기 위해 단어 뒤 지점을 새로운 시작지점으로 설정                     \n",
    "            sub_index = bin_page[+index:].find(word)\n",
    "            print('\\n')\n",
    "            \n",
    "            inputword(index,sub_index)    #recursive function\n",
    "    \n"
   ]
  },
  {
   "cell_type": "code",
   "execution_count": 17,
   "metadata": {},
   "outputs": [
    {
     "name": "stdout",
     "output_type": "stream",
     "text": [
      "node 의 검색위치: 2119\n",
      "검색 결과: nodes to create a un\n",
      "\n",
      "\n",
      "node 의 검색위치: 9112\n",
      "검색 결과: node are all related\n",
      "\n",
      "\n",
      "node 의 검색위치: 13363\n",
      "검색 결과: node from which furt\n",
      "\n",
      "\n"
     ]
    }
   ],
   "source": [
    "inputword(index,sub_index)"
   ]
  },
  {
   "cell_type": "markdown",
   "metadata": {},
   "source": [
    "#  PDF->OCR (make class) ver 2"
   ]
  },
  {
   "cell_type": "code",
   "execution_count": 8,
   "metadata": {},
   "outputs": [],
   "source": [
    "# 문서형식은 잘 되지만, 이미지 형식의 도면은 안됨\n",
    "import sys\n",
    "sys.path.append('C:/Program Files/Anaconda3/Lib/site-packages')\n",
    "# import packages\n",
    "import PyPDF2\n",
    "import re"
   ]
  },
  {
   "cell_type": "code",
   "execution_count": 9,
   "metadata": {},
   "outputs": [],
   "source": [
    "def inputword(index,sub_index):\n",
    "    \n",
    "    while sub_index is not -1:   \n",
    "        leng=len(word)\n",
    "        print(i+1,\"page\")\n",
    "        print(word,\"의 검색위치:\", index+sub_index)\n",
    "        print(\"검색 결과:\",bin_page[index+sub_index:index+sub_index+len(word)]\n",
    "              , \"\", bin_page[index+sub_index+len(word):index+sub_index+len(word)+20],\"\\n\")\n",
    "        index+=sub_index+leng    # 중복검색을 피하기 위해 단어 뒤 지점을 새로운 시작지점으로 설정                     \n",
    "        sub_index = bin_page[+index:].find(word)\n",
    "        # print(sub_index) # loop 나가는지 확인\n",
    "        "
   ]
  },
  {
   "cell_type": "code",
   "execution_count": 12,
   "metadata": {},
   "outputs": [
    {
     "name": "stdout",
     "output_type": "stream",
     "text": [
      "3 page\n",
      "node 의 검색위치: 164\n",
      "검색 결과: node  s to create a univer \n",
      "\n",
      "7 page\n",
      "node 의 검색위치: 826\n",
      "검색 결과: node   are all related to  \n",
      "\n",
      "9 page\n",
      "node 의 검색위치: 1671\n",
      "검색 결과: node   from which further  \n",
      "\n"
     ]
    }
   ],
   "source": [
    "# open the pdf file\n",
    "object = PyPDF2.PdfFileReader(\"C:/Users/mando/Desktop/coin.pdf\")\n",
    "\n",
    "#docInfo = object.getDocumentInfo()\n",
    "#print(docInfo)\n",
    "\n",
    "# get number of pages\n",
    "NumPages = object.getNumPages()\n",
    "\n",
    "# define keyterms\n",
    "word = \"node\"\n",
    "\n",
    "# extract text and do the search\n",
    "for i in range(0, NumPages):\n",
    "    PageObj = object.getPage(i)\n",
    "    bin_page = PageObj.extractText()\n",
    "    sub_index = bin_page.find(word)  #찾은 위치만큼 검색시작위치 더해주기\n",
    "    \n",
    "    if word is not \"\":\n",
    "        index=0 # page마다 string index 초기화 \n",
    "        sub_index = bin_page[index:].find(word)  #찾은 위치만큼 검색시작위치 더해주기 \n",
    "        inputword(index,sub_index)\n",
    "    else:\n",
    "        print(\"다시 입력하세요\")\n",
    "        break\n",
    "    \n",
    "# 한글문제 해결해야함 \n"
   ]
  },
  {
   "cell_type": "code",
   "execution_count": 100,
   "metadata": {},
   "outputs": [],
   "source": [
    "# 참고사항\n",
    "# 여러 단어 중복검색 해결방법 (해결)\n",
    "# 한글 문제 "
   ]
  },
  {
   "cell_type": "code",
   "execution_count": 101,
   "metadata": {},
   "outputs": [],
   "source": [
    "# 협의사항\n",
    "# pdf를 어떻게 검색 및 선택할 것인지\n",
    "# 도면 해상도 문제\n"
   ]
  },
  {
   "cell_type": "code",
   "execution_count": null,
   "metadata": {},
   "outputs": [],
   "source": []
  }
 ],
 "metadata": {
  "kernelspec": {
   "display_name": "Python 3",
   "language": "python",
   "name": "python3"
  },
  "language_info": {
   "codemirror_mode": {
    "name": "ipython",
    "version": 3
   },
   "file_extension": ".py",
   "mimetype": "text/x-python",
   "name": "python",
   "nbconvert_exporter": "python",
   "pygments_lexer": "ipython3",
   "version": "3.6.7"
  }
 },
 "nbformat": 4,
 "nbformat_minor": 2
}
