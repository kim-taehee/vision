{
 "cells": [
  {
   "cell_type": "markdown",
   "metadata": {},
   "source": [
    "# 1안 PDF->text->OCR"
   ]
  },
  {
   "cell_type": "code",
   "execution_count": 7,
   "metadata": {},
   "outputs": [],
   "source": [
    "import sys\n",
    "sys.path.append('C:/Program Files/Anaconda3/Lib/site-packages') # get library path\n",
    "\n",
    "from wand.image import Image as wimage\n",
    "# Converting first page into JPG\n",
    "# resolution unit : dpi\n",
    "# imgsize : OK\n",
    "with wimage(filename=\"C:/Users/mando/Desktop/BH290019XX_Y-모형_00.pdf\",  resolution=600, height=65536*4, width=65536*4) as img:\n",
    "    img.compression_quality = 99\n",
    "    img.save(filename=\"C:/Users/mando/Desktop/temp.jpg\")\n",
    "\n",
    "from PIL import Image\n",
    "from pytesseract import image_to_string\n",
    "import os\n",
    "import path\n",
    "\n",
    "\n"
   ]
  },
  {
   "cell_type": "code",
   "execution_count": 8,
   "metadata": {},
   "outputs": [],
   "source": [
    "# install poppler  #why path?\n",
    "# from pdf2image import convert_from_bytes\n",
    "# images = convert_from_bytes(open('C://Users//mando//Desktop/T1XX.pdf', 'rb').read())"
   ]
  },
  {
   "cell_type": "code",
   "execution_count": 9,
   "metadata": {},
   "outputs": [],
   "source": [
    "def OCRWrite(imgfile,lang='eng+kor'):  \n",
    "    text=image_to_string(img,lang=lang)    \n",
    "    OCRdata = \"\"  # empty string\n",
    "    myfile = open(\"ocr.txt\",\"w\",encoding='utf-8')\n",
    "    myfile.write(text)\n",
    "    myfile.close()"
   ]
  },
  {
   "cell_type": "code",
   "execution_count": 10,
   "metadata": {},
   "outputs": [],
   "source": [
    "def OCWread(word):  # line이 끊기는 문제가 발생한다.\n",
    "    myfile = open(\"ocr.txt\",\"r\",encoding='utf-8')\n",
    "    OCRdata = \"\"  # empty string\n",
    "    lines = myfile.readlines()\n",
    "    for line in lines:\n",
    "        OCRdata = OCRdata + line.strip();\n",
    "    myfile.close()\n",
    "    \n",
    "    leng=len(word)\n",
    "    if word is not \"\":\n",
    "        index=0\n",
    "        sub_index = OCRdata[+index:].find(word)  #찾은 위치만큼 검색시작위치 더해주기 \n",
    "        inputword_image(index,sub_index,OCRdata,leng)"
   ]
  },
  {
   "cell_type": "code",
   "execution_count": 11,
   "metadata": {},
   "outputs": [],
   "source": [
    "def inputword_image(index,sub_index,OCRdata,leng):\n",
    "    if sub_index is not -1:            \n",
    "\n",
    "        print(word,\"의 검색위치:\", index+sub_index)\n",
    "        print(\"검색 결과:\",OCRdata[index+sub_index:index+sub_index+len(word)]\n",
    "                  , \"\", OCRdata[index+sub_index+len(word):index+sub_index+len(word)+20],\"\\n\")\n",
    "        index+=sub_index+leng                # 중복검색을 피하기 위해 단어 뒤 지점을 새로운 시작지점으로 설정                     \n",
    "        sub_index = OCRdata[+index:].find(word)\n",
    "        print('\\n')\n",
    "\n",
    "        inputword_image(index,sub_index,OCRdata,leng)    #recursive function\n"
   ]
  },
  {
   "cell_type": "code",
   "execution_count": 12,
   "metadata": {},
   "outputs": [
    {
     "name": "stdout",
     "output_type": "stream",
     "text": [
      "차종을 입력하세요: BH6017\n",
      "BH6017 의 검색위치: 3026\n",
      "검색 결과: BH6017  A050 |58920-D95405@0 \n",
      "\n",
      "\n",
      "\n",
      "BH6017 의 검색위치: 3319\n",
      "검색 결과: BH6017  Y 160 |58920-D7640BH \n",
      "\n",
      "\n",
      "\n",
      "BH6017 의 검색위치: 3359\n",
      "검색 결과: BH6017  Y 150 |58920-D7540 7 \n",
      "\n",
      "\n",
      "\n",
      "BH6017 의 검색위치: 3403\n",
      "검색 결과: BH6017  Y 110 |58920-D7620 7 \n",
      "\n",
      "\n",
      "\n",
      "BH6017 의 검색위치: 3448\n",
      "검색 결과: BH6017  Y 100 |58920-D7520 7 \n",
      "\n",
      "\n",
      "\n"
     ]
    }
   ],
   "source": [
    "img=Image.open('C:/Users/mando/Desktop/temp.jpg')\n",
    "OCRWrite(img)\n",
    "word = input(\"차종을 입력하세요: \")\n",
    "OCWread(word)"
   ]
  },
  {
   "cell_type": "code",
   "execution_count": 30,
   "metadata": {},
   "outputs": [
    {
     "ename": "SyntaxError",
     "evalue": "invalid syntax (<ipython-input-30-3e11b4ab7a92>, line 2)",
     "output_type": "error",
     "traceback": [
      "\u001b[1;36m  File \u001b[1;32m\"<ipython-input-30-3e11b4ab7a92>\"\u001b[1;36m, line \u001b[1;32m2\u001b[0m\n\u001b[1;33m    1. 한글인식율이 떨어짐\u001b[0m\n\u001b[1;37m            ^\u001b[0m\n\u001b[1;31mSyntaxError\u001b[0m\u001b[1;31m:\u001b[0m invalid syntax\n"
     ]
    }
   ],
   "source": [
    "''' 문제점\n",
    "1. 한글인식율이 떨어짐\n",
    "2. 띄워쓰기\n",
    "3. 글씨체,글자크키\n",
    "4. 가로세로\n",
    "5. 칸 정렬\n",
    "6. 이미지 해상도\n",
    " 3안 pdf->jpg->특정구역선택->검색 '''"
   ]
  },
  {
   "cell_type": "code",
   "execution_count": null,
   "metadata": {},
   "outputs": [],
   "source": [
    "#위의 내용은 pdf선택하는 것으로 함수와 시켜야함 \n",
    "# "
   ]
  },
  {
   "cell_type": "markdown",
   "metadata": {},
   "source": [
    "# 2안  PDF->OCR (make class) ver 2"
   ]
  },
  {
   "cell_type": "code",
   "execution_count": 18,
   "metadata": {},
   "outputs": [],
   "source": [
    "# 문서형식은 잘 되지만, 이미지 형식의 도면은 안됨\n",
    "import sys\n",
    "sys.path.append('C:/Program Files/Anaconda3/Lib/site-packages')\n",
    "# import packages\n",
    "import PyPDF2\n",
    "import re"
   ]
  },
  {
   "cell_type": "code",
   "execution_count": 19,
   "metadata": {},
   "outputs": [],
   "source": [
    "def Inputword(word,NumPages):\n",
    "    for i in range(0, NumPages):\n",
    "        PageObj = object.getPage(i)\n",
    "        bin_page = PageObj.extractText()\n",
    "        sub_index = bin_page.find(word)  #찾은 위치만큼 검색시작위치 더해주기\n",
    "\n",
    "        if word is not \"\":\n",
    "            index=0 # page마다 string index 초기화 \n",
    "            sub_index = bin_page[index:].find(word)  #찾은 위치만큼 검색시작위치 더해주기 \n",
    "            while sub_index is not -1:   \n",
    "                leng=len(word)\n",
    "                print(i+1,\"page\")\n",
    "                print(word,\"의 검색위치:\", index+sub_index)\n",
    "                print(\"검색 결과:\",bin_page[index+sub_index:index+sub_index+len(word)]\n",
    "                      , \"\", bin_page[index+sub_index+len(word):index+sub_index+len(word)+20],\"\\n\")\n",
    "                index+=sub_index+leng    # 중복검색을 피하기 위해 단어 뒤 지점을 새로운 시작지점으로 설정                     \n",
    "                sub_index = bin_page[+index:].find(word)\n",
    "                # print(sub_index) # loop 나가는지 확인\n",
    "        else:\n",
    "            print(\"다시 입력하세요\")\n",
    "            break"
   ]
  },
  {
   "cell_type": "code",
   "execution_count": 34,
   "metadata": {},
   "outputs": [
    {
     "name": "stdout",
     "output_type": "stream",
     "text": [
      "차종을 입력하세요: T1\n",
      "1 page\n",
      "T1 의 검색위치: 254\n",
      "검색 결과: T1  XXK017U032.022.10,Z2 \n",
      "\n"
     ]
    }
   ],
   "source": [
    "# open the pdf file\n",
    "object = PyPDF2.PdfFileReader(\"C:/Users/mando/Desktop/T1XX.pdf\",strict=False) #coin.pdf,T1XX.pdf\n",
    "#docInfo = object.getDocumentInfo()\n",
    "#print(docInfo)\n",
    "\n",
    "# get number of pages\n",
    "NumPages = object.getNumPages()\n",
    "word = input(\"차종을 입력하세요: \")\n",
    "\n",
    "Inputword(word,NumPages)"
   ]
  },
  {
   "cell_type": "code",
   "execution_count": 100,
   "metadata": {},
   "outputs": [],
   "source": [
    "# 참고사항\n",
    "# 여러 단어 중복검색 해결방법 (해결)"
   ]
  },
  {
   "cell_type": "code",
   "execution_count": 101,
   "metadata": {},
   "outputs": [],
   "source": [
    "# 협의사항\n",
    "# pdf를 어떻게 검색 및 선택할 것인지\n",
    "# 도면 해상도 문제\n"
   ]
  },
  {
   "cell_type": "code",
   "execution_count": null,
   "metadata": {},
   "outputs": [],
   "source": []
  }
 ],
 "metadata": {
  "kernelspec": {
   "display_name": "Python 3",
   "language": "python",
   "name": "python3"
  },
  "language_info": {
   "codemirror_mode": {
    "name": "ipython",
    "version": 3
   },
   "file_extension": ".py",
   "mimetype": "text/x-python",
   "name": "python",
   "nbconvert_exporter": "python",
   "pygments_lexer": "ipython3",
   "version": "3.6.7"
  }
 },
 "nbformat": 4,
 "nbformat_minor": 2
}
